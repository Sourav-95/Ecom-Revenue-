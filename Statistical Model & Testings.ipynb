{
 "cells": [
  {
   "cell_type": "markdown",
   "id": "5685b16c",
   "metadata": {},
   "source": [
    "## Problem 1"
   ]
  },
  {
   "cell_type": "markdown",
   "id": "06ad08b9",
   "metadata": {},
   "source": [
    "### Austo Motor Company is a leading car manufacturer specializing in SUV, Sedan, and Hatchback models. In its recent board meeting, concerns were raised by the members on the efficiency of the marketing campaign currently being used. The board decides to rope in an analytics professional to improve the existing campaign."
   ]
  },
  {
   "cell_type": "code",
   "execution_count": 1,
   "id": "8ee0e178",
   "metadata": {},
   "outputs": [],
   "source": [
    "#importing libuaries\n",
    "import numpy as np\n",
    "import pandas as pd\n",
    "import matplotlib.pyplot as plt\n",
    "import seaborn as sns"
   ]
  },
  {
   "cell_type": "code",
   "execution_count": 2,
   "id": "40c73146",
   "metadata": {},
   "outputs": [],
   "source": [
    "austo = pd.read_csv('austo_automobile.csv')"
   ]
  },
  {
   "cell_type": "markdown",
   "id": "642340e7",
   "metadata": {},
   "source": [
    "#### 1.A Technical Information about the dataset"
   ]
  },
  {
   "cell_type": "code",
   "execution_count": 3,
   "id": "251cd1a0",
   "metadata": {},
   "outputs": [
    {
     "name": "stdout",
     "output_type": "stream",
     "text": [
      "The No. of Customers in the dataset are: 1581 \n",
      "The Total features available for each Customers are: 14\n"
     ]
    }
   ],
   "source": [
    "#shape of the dataset\n",
    "\n",
    "print (\"The No. of Customers in the dataset are:\",austo.shape[0], \"\\nThe Total features available for each Customers are:\" ,austo.shape[1])"
   ]
  },
  {
   "cell_type": "code",
   "execution_count": 4,
   "id": "3e446279",
   "metadata": {},
   "outputs": [
    {
     "name": "stdout",
     "output_type": "stream",
     "text": [
      "<class 'pandas.core.frame.DataFrame'>\n",
      "RangeIndex: 1581 entries, 0 to 1580\n",
      "Data columns (total 14 columns):\n",
      " #   Column            Non-Null Count  Dtype  \n",
      "---  ------            --------------  -----  \n",
      " 0   Age               1581 non-null   int64  \n",
      " 1   Gender            1528 non-null   object \n",
      " 2   Profession        1581 non-null   object \n",
      " 3   Marital_status    1581 non-null   object \n",
      " 4   Education         1581 non-null   object \n",
      " 5   No_of_Dependents  1581 non-null   int64  \n",
      " 6   Personal_loan     1581 non-null   object \n",
      " 7   House_loan        1581 non-null   object \n",
      " 8   Partner_working   1581 non-null   object \n",
      " 9   Salary            1581 non-null   int64  \n",
      " 10  Partner_salary    1475 non-null   float64\n",
      " 11  Total_salary      1581 non-null   int64  \n",
      " 12  Price             1581 non-null   int64  \n",
      " 13  Make              1581 non-null   object \n",
      "dtypes: float64(1), int64(5), object(8)\n",
      "memory usage: 173.0+ KB\n"
     ]
    }
   ],
   "source": [
    "#information on the dataset\n",
    "austo.info()"
   ]
  },
  {
   "cell_type": "markdown",
   "id": "64649b0f",
   "metadata": {},
   "source": [
    "##### Observation"
   ]
  },
  {
   "cell_type": "raw",
   "id": "78b05ef8",
   "metadata": {},
   "source": [
    "1. There are 1581 Rows & 14 Columns in the Dataset\n",
    "2. There are 8 Object type data, 5 integer type Data & 1 Float type data\n",
    "3. There are some null vales in the Column Gender\n",
    "4. Some of the Partner are not working hence Partner_salary has null values which are needed to be treated, also their are some values with partner working feature is 'Yes' and still the Partner_salary column has bad data or null values, then it is also needed to be treated"
   ]
  },
  {
   "cell_type": "markdown",
   "id": "a0a7f7ac",
   "metadata": {},
   "source": [
    "#### 1.B Preliminary Analysis of the Data, Consistency of the Variables, Checking of discrepancies in the data"
   ]
  },
  {
   "cell_type": "code",
   "execution_count": 5,
   "id": "f49fb03f",
   "metadata": {},
   "outputs": [
    {
     "data": {
      "text/html": [
       "<div>\n",
       "<style scoped>\n",
       "    .dataframe tbody tr th:only-of-type {\n",
       "        vertical-align: middle;\n",
       "    }\n",
       "\n",
       "    .dataframe tbody tr th {\n",
       "        vertical-align: top;\n",
       "    }\n",
       "\n",
       "    .dataframe thead th {\n",
       "        text-align: right;\n",
       "    }\n",
       "</style>\n",
       "<table border=\"1\" class=\"dataframe\">\n",
       "  <thead>\n",
       "    <tr style=\"text-align: right;\">\n",
       "      <th></th>\n",
       "      <th>count</th>\n",
       "      <th>mean</th>\n",
       "      <th>std</th>\n",
       "      <th>min</th>\n",
       "      <th>25%</th>\n",
       "      <th>50%</th>\n",
       "      <th>75%</th>\n",
       "      <th>max</th>\n",
       "    </tr>\n",
       "  </thead>\n",
       "  <tbody>\n",
       "    <tr>\n",
       "      <th>Age</th>\n",
       "      <td>1581.0</td>\n",
       "      <td>31.922201</td>\n",
       "      <td>8.425978</td>\n",
       "      <td>22.0</td>\n",
       "      <td>25.0</td>\n",
       "      <td>29.0</td>\n",
       "      <td>38.0</td>\n",
       "      <td>54.0</td>\n",
       "    </tr>\n",
       "    <tr>\n",
       "      <th>No_of_Dependents</th>\n",
       "      <td>1581.0</td>\n",
       "      <td>2.457938</td>\n",
       "      <td>0.943483</td>\n",
       "      <td>0.0</td>\n",
       "      <td>2.0</td>\n",
       "      <td>2.0</td>\n",
       "      <td>3.0</td>\n",
       "      <td>4.0</td>\n",
       "    </tr>\n",
       "    <tr>\n",
       "      <th>Salary</th>\n",
       "      <td>1581.0</td>\n",
       "      <td>60392.220114</td>\n",
       "      <td>14674.825044</td>\n",
       "      <td>30000.0</td>\n",
       "      <td>51900.0</td>\n",
       "      <td>59500.0</td>\n",
       "      <td>71800.0</td>\n",
       "      <td>99300.0</td>\n",
       "    </tr>\n",
       "    <tr>\n",
       "      <th>Partner_salary</th>\n",
       "      <td>1475.0</td>\n",
       "      <td>20225.559322</td>\n",
       "      <td>19573.149277</td>\n",
       "      <td>0.0</td>\n",
       "      <td>0.0</td>\n",
       "      <td>25600.0</td>\n",
       "      <td>38300.0</td>\n",
       "      <td>80500.0</td>\n",
       "    </tr>\n",
       "    <tr>\n",
       "      <th>Total_salary</th>\n",
       "      <td>1581.0</td>\n",
       "      <td>79625.996205</td>\n",
       "      <td>25545.857768</td>\n",
       "      <td>30000.0</td>\n",
       "      <td>60500.0</td>\n",
       "      <td>78000.0</td>\n",
       "      <td>95900.0</td>\n",
       "      <td>171000.0</td>\n",
       "    </tr>\n",
       "    <tr>\n",
       "      <th>Price</th>\n",
       "      <td>1581.0</td>\n",
       "      <td>35597.722960</td>\n",
       "      <td>13633.636545</td>\n",
       "      <td>18000.0</td>\n",
       "      <td>25000.0</td>\n",
       "      <td>31000.0</td>\n",
       "      <td>47000.0</td>\n",
       "      <td>70000.0</td>\n",
       "    </tr>\n",
       "  </tbody>\n",
       "</table>\n",
       "</div>"
      ],
      "text/plain": [
       "                   count          mean           std      min      25%  \\\n",
       "Age               1581.0     31.922201      8.425978     22.0     25.0   \n",
       "No_of_Dependents  1581.0      2.457938      0.943483      0.0      2.0   \n",
       "Salary            1581.0  60392.220114  14674.825044  30000.0  51900.0   \n",
       "Partner_salary    1475.0  20225.559322  19573.149277      0.0      0.0   \n",
       "Total_salary      1581.0  79625.996205  25545.857768  30000.0  60500.0   \n",
       "Price             1581.0  35597.722960  13633.636545  18000.0  25000.0   \n",
       "\n",
       "                      50%      75%       max  \n",
       "Age                  29.0     38.0      54.0  \n",
       "No_of_Dependents      2.0      3.0       4.0  \n",
       "Salary            59500.0  71800.0   99300.0  \n",
       "Partner_salary    25600.0  38300.0   80500.0  \n",
       "Total_salary      78000.0  95900.0  171000.0  \n",
       "Price             31000.0  47000.0   70000.0  "
      ]
     },
     "execution_count": 5,
     "metadata": {},
     "output_type": "execute_result"
    }
   ],
   "source": [
    "#summary of the dataset\n",
    "austo.describe().T"
   ]
  },
  {
   "cell_type": "code",
   "execution_count": 6,
   "id": "e6f34665",
   "metadata": {},
   "outputs": [
    {
     "data": {
      "text/plain": [
       "Age                   0\n",
       "Gender               53\n",
       "Profession            0\n",
       "Marital_status        0\n",
       "Education             0\n",
       "No_of_Dependents      0\n",
       "Personal_loan         0\n",
       "House_loan            0\n",
       "Partner_working       0\n",
       "Salary                0\n",
       "Partner_salary      106\n",
       "Total_salary          0\n",
       "Price                 0\n",
       "Make                  0\n",
       "dtype: int64"
      ]
     },
     "execution_count": 6,
     "metadata": {},
     "output_type": "execute_result"
    }
   ],
   "source": [
    "#Finding the null values in the dataset\n",
    "austo.isnull().sum()"
   ]
  },
  {
   "cell_type": "markdown",
   "id": "60595194",
   "metadata": {},
   "source": [
    "###### Gender & Partner_salary has bad data & anomalies, hence both needed to be treated"
   ]
  },
  {
   "cell_type": "code",
   "execution_count": 7,
   "id": "113d804f",
   "metadata": {},
   "outputs": [
    {
     "data": {
      "text/plain": [
       "array(['Male', 'Femal', 'Female', nan, 'Femle'], dtype=object)"
      ]
     },
     "execution_count": 7,
     "metadata": {},
     "output_type": "execute_result"
    }
   ],
   "source": [
    "#viewing the values in the column Gender\n",
    "austo.Gender.unique()"
   ]
  },
  {
   "cell_type": "raw",
   "id": "3c5996fb",
   "metadata": {},
   "source": [
    "We found that there are multiple discrepancies in the Gender column other than null values which are need to be treated."
   ]
  },
  {
   "cell_type": "code",
   "execution_count": 8,
   "id": "0d8aa8e6",
   "metadata": {},
   "outputs": [],
   "source": [
    "#replacing the wring entries & filling the NaN values with Male as the distribution of Male is higher in the dataset\n",
    "austo['Gender'].replace('Femal', 'Female', inplace=True)\n",
    "austo['Gender'].replace('Femle', 'Female', inplace=True)\n",
    "austo['Gender'].fillna('Male', inplace=True)"
   ]
  },
  {
   "cell_type": "code",
   "execution_count": 9,
   "id": "7a44b171",
   "metadata": {},
   "outputs": [
    {
     "data": {
      "text/plain": [
       "array(['Male', 'Female'], dtype=object)"
      ]
     },
     "execution_count": 9,
     "metadata": {},
     "output_type": "execute_result"
    }
   ],
   "source": [
    "#rechecking the variable after treating the bad data\n",
    "austo.Gender.unique()"
   ]
  },
  {
   "cell_type": "code",
   "execution_count": 10,
   "id": "b574861a",
   "metadata": {},
   "outputs": [
    {
     "data": {
      "text/plain": [
       "array([70700., 70300., 60700., 60200., 60500., 50800., 40400.,     0.,\n",
       "       70600., 60600., 60300., 45500., 40200., 40700.,   600.,   700.,\n",
       "       27800., 70000., 40100., 40900., 27000.,    nan, 40500., 50400.,\n",
       "       80400., 60900., 60100., 70200., 30000., 40300., 40800., 70800.,\n",
       "         900., 45000., 40600., 50700., 80500., 27700., 35800., 26600.,\n",
       "       60000., 27900., 60800., 40000., 70100., 38100., 38200., 30200.,\n",
       "       38500., 50900., 35100., 38700., 38300., 38900., 23200., 24700.,\n",
       "       30800., 28100., 38400., 38000., 23100., 30100., 25700., 70400.,\n",
       "         200., 30900., 26100., 45700.,   400., 28200., 70900., 38800.,\n",
       "       45200., 26800., 60400., 30300., 25800.,   800., 38600., 24500.,\n",
       "       30700., 28500., 24900., 70500., 35900., 30500., 28900., 27200.,\n",
       "       45900., 25300., 35600., 25000., 25200., 26300., 35700., 23800.,\n",
       "       32700., 30600., 45600., 28000., 32600., 28600., 25100., 26700.,\n",
       "       24200., 25900., 22100., 25400., 28400., 28300., 25500., 24000.,\n",
       "       32400., 28800., 32300., 32900., 27600., 35500., 23500., 45400.,\n",
       "       28700., 32800., 23700., 32500., 35300., 45800., 27300., 22900.,\n",
       "       29800., 30400., 35400., 24300., 29200., 24600.,   100., 50300.,\n",
       "       32000., 32200., 24400., 32100., 22600., 26900.,   300., 20000.,\n",
       "       26200., 22300., 25600.,   500., 35200., 35000.])"
      ]
     },
     "execution_count": 10,
     "metadata": {},
     "output_type": "execute_result"
    }
   ],
   "source": [
    "austo.Partner_salary.unique()"
   ]
  },
  {
   "cell_type": "markdown",
   "id": "0b24a3e7",
   "metadata": {},
   "source": [
    "Some of the entries Partner_salary are Null, while according to the set condition, if Partner_working is 'No' then Partner_salary can be 0 but if the Partner_working status is 'Yes' then Null value is imputer with Total_salary - Salary."
   ]
  },
  {
   "cell_type": "code",
   "execution_count": 11,
   "id": "c3aced59",
   "metadata": {},
   "outputs": [],
   "source": [
    "#treating the bad data in Partner_salary\n",
    "for i in austo['Partner_working']:\n",
    "    if i == 'Yes':\n",
    "        austo['Partner_salary']=austo['Total_salary']-austo['Salary']\n",
    "    elif i=='No':\n",
    "        austo['Partner_salary']=austo['Partner_salary'].replace(np.nan,0)"
   ]
  },
  {
   "cell_type": "markdown",
   "id": "c7325ca6",
   "metadata": {},
   "source": [
    "#### 1.C Visualization of all the features of the data\n",
    "#####    Univariate Analysis"
   ]
  },
  {
   "cell_type": "code",
   "execution_count": 12,
   "id": "1f0db1bd",
   "metadata": {},
   "outputs": [
    {
     "data": {
      "text/html": [
       "<div>\n",
       "<style scoped>\n",
       "    .dataframe tbody tr th:only-of-type {\n",
       "        vertical-align: middle;\n",
       "    }\n",
       "\n",
       "    .dataframe tbody tr th {\n",
       "        vertical-align: top;\n",
       "    }\n",
       "\n",
       "    .dataframe thead th {\n",
       "        text-align: right;\n",
       "    }\n",
       "</style>\n",
       "<table border=\"1\" class=\"dataframe\">\n",
       "  <thead>\n",
       "    <tr style=\"text-align: right;\">\n",
       "      <th></th>\n",
       "      <th>count</th>\n",
       "      <th>mean</th>\n",
       "      <th>std</th>\n",
       "      <th>min</th>\n",
       "      <th>25%</th>\n",
       "      <th>50%</th>\n",
       "      <th>75%</th>\n",
       "      <th>max</th>\n",
       "    </tr>\n",
       "  </thead>\n",
       "  <tbody>\n",
       "    <tr>\n",
       "      <th>Age</th>\n",
       "      <td>1581.0</td>\n",
       "      <td>31.922201</td>\n",
       "      <td>8.425978</td>\n",
       "      <td>22.0</td>\n",
       "      <td>25.0</td>\n",
       "      <td>29.0</td>\n",
       "      <td>38.0</td>\n",
       "      <td>54.0</td>\n",
       "    </tr>\n",
       "    <tr>\n",
       "      <th>No_of_Dependents</th>\n",
       "      <td>1581.0</td>\n",
       "      <td>2.457938</td>\n",
       "      <td>0.943483</td>\n",
       "      <td>0.0</td>\n",
       "      <td>2.0</td>\n",
       "      <td>2.0</td>\n",
       "      <td>3.0</td>\n",
       "      <td>4.0</td>\n",
       "    </tr>\n",
       "    <tr>\n",
       "      <th>Salary</th>\n",
       "      <td>1581.0</td>\n",
       "      <td>60392.220114</td>\n",
       "      <td>14674.825044</td>\n",
       "      <td>30000.0</td>\n",
       "      <td>51900.0</td>\n",
       "      <td>59500.0</td>\n",
       "      <td>71800.0</td>\n",
       "      <td>99300.0</td>\n",
       "    </tr>\n",
       "    <tr>\n",
       "      <th>Partner_salary</th>\n",
       "      <td>1581.0</td>\n",
       "      <td>19233.776091</td>\n",
       "      <td>19670.391171</td>\n",
       "      <td>0.0</td>\n",
       "      <td>0.0</td>\n",
       "      <td>25100.0</td>\n",
       "      <td>38100.0</td>\n",
       "      <td>80500.0</td>\n",
       "    </tr>\n",
       "    <tr>\n",
       "      <th>Total_salary</th>\n",
       "      <td>1581.0</td>\n",
       "      <td>79625.996205</td>\n",
       "      <td>25545.857768</td>\n",
       "      <td>30000.0</td>\n",
       "      <td>60500.0</td>\n",
       "      <td>78000.0</td>\n",
       "      <td>95900.0</td>\n",
       "      <td>171000.0</td>\n",
       "    </tr>\n",
       "    <tr>\n",
       "      <th>Price</th>\n",
       "      <td>1581.0</td>\n",
       "      <td>35597.722960</td>\n",
       "      <td>13633.636545</td>\n",
       "      <td>18000.0</td>\n",
       "      <td>25000.0</td>\n",
       "      <td>31000.0</td>\n",
       "      <td>47000.0</td>\n",
       "      <td>70000.0</td>\n",
       "    </tr>\n",
       "  </tbody>\n",
       "</table>\n",
       "</div>"
      ],
      "text/plain": [
       "                   count          mean           std      min      25%  \\\n",
       "Age               1581.0     31.922201      8.425978     22.0     25.0   \n",
       "No_of_Dependents  1581.0      2.457938      0.943483      0.0      2.0   \n",
       "Salary            1581.0  60392.220114  14674.825044  30000.0  51900.0   \n",
       "Partner_salary    1581.0  19233.776091  19670.391171      0.0      0.0   \n",
       "Total_salary      1581.0  79625.996205  25545.857768  30000.0  60500.0   \n",
       "Price             1581.0  35597.722960  13633.636545  18000.0  25000.0   \n",
       "\n",
       "                      50%      75%       max  \n",
       "Age                  29.0     38.0      54.0  \n",
       "No_of_Dependents      2.0      3.0       4.0  \n",
       "Salary            59500.0  71800.0   99300.0  \n",
       "Partner_salary    25100.0  38100.0   80500.0  \n",
       "Total_salary      78000.0  95900.0  171000.0  \n",
       "Price             31000.0  47000.0   70000.0  "
      ]
     },
     "execution_count": 12,
     "metadata": {},
     "output_type": "execute_result"
    }
   ],
   "source": [
    "austo.describe().T"
   ]
  },
  {
   "cell_type": "code",
   "execution_count": 13,
   "id": "6d7777ce",
   "metadata": {},
   "outputs": [
    {
     "data": {
      "image/png": "[encoded data removed]",
      "text/plain": [
       "<Figure size 720x576 with 4 Axes>"
      ]
     },
     "metadata": {
      "needs_background": "light"
     },
     "output_type": "display_data"
    }
   ],
   "source": [
    "fig, axes=plt.subplots(nrows=2, ncols=2, figsize=(10,8))\n",
    "sns.histplot(data=austo, x='Age', kde=True, ax=axes[0][0])\n",
    "sns.countplot(data=austo, x='No_of_Dependents', ax=axes[0][1])\n",
    "sns.boxplot(data=austo, x='Salary', ax=axes[1][0])\n",
    "sns.boxplot(data=austo, x='Partner_salary', ax=axes[1][1])\n",
    "plt.show()"
   ]
  },
  {
   "cell_type": "code",
   "execution_count": 14,
   "id": "d52edc5e",
   "metadata": {},
   "outputs": [
    {
     "data": {
      "text/plain": [
       "<AxesSubplot:xlabel='Total_salary'>"
      ]
     },
     "execution_count": 14,
     "metadata": {},
     "output_type": "execute_result"
    },
    {
     "data": {
      "image/png": "[encoded data removed]",
      "text/plain": [
       "<Figure size 432x288 with 1 Axes>"
      ]
     },
     "metadata": {
      "needs_background": "light"
     },
     "output_type": "display_data"
    }
   ],
   "source": [
    "sns.boxplot(data=austo, x='Total_salary')"
   ]
  },
  {
   "cell_type": "code",
   "execution_count": 15,
   "id": "06402ea2",
   "metadata": {},
   "outputs": [
    {
     "data": {
      "text/plain": [
       "<AxesSubplot:xlabel='Price'>"
      ]
     },
     "execution_count": 15,
     "metadata": {},
     "output_type": "execute_result"
    },
    {
     "data": {
      "image/png": "[encoded data removed]",
      "text/plain": [
       "<Figure size 432x288 with 1 Axes>"
      ]
     },
     "metadata": {
      "needs_background": "light"
     },
     "output_type": "display_data"
    }
   ],
   "source": [
    "sns.boxplot(x='Price', data=austo)"
   ]
  },
  {
   "cell_type": "markdown",
   "id": "a72a45c7",
   "metadata": {},
   "source": [
    "Total_Salary of the customers are uniformly distributed in the dataset."
   ]
  },
  {
   "cell_type": "markdown",
   "id": "3b67a971",
   "metadata": {},
   "source": [
    "##### INSIGHTS:\n",
    "\n",
    "##### Age of the Customer Ranges from minimum of 22 Years to Maximum of 54 Years, also Age is highly Right skewed. \n",
    "##### 75% of the data has 3 No_of_Dependents.\n",
    "##### Salaries Ranges from 30000 to 99300 with a mean of 60392.22 and have a uniform distribution\n",
    "##### Partner's Salary is highly negatively skewed with a mean value of 19233.77\n",
    "##### Total Salary has normal distribution in the dataset but contains multiple outliers\n",
    "##### Price Range of Austo Car's is left skewed  with no outliers"
   ]
  },
  {
   "cell_type": "code",
   "execution_count": 16,
   "id": "d06c8503",
   "metadata": {},
   "outputs": [
    {
     "data": {
      "image/png": "[encoded data removed]",
      "text/plain": [
       "<Figure size 648x1080 with 6 Axes>"
      ]
     },
     "metadata": {
      "needs_background": "light"
     },
     "output_type": "display_data"
    }
   ],
   "source": [
    "fig, axes=plt.subplots(nrows=3, ncols=2, figsize=(9,15))\n",
    "sns.countplot(data=austo, x='Gender', ax=axes[0][0])\n",
    "sns.countplot(data=austo, x='Profession', ax=axes[0][1])\n",
    "sns.countplot(data=austo, x='Marital_status', ax=axes[1][0])\n",
    "sns.countplot(data=austo, x='Education', ax=axes[1][1])\n",
    "sns.countplot(data=austo, x='Personal_loan', ax=axes[2][0])\n",
    "sns.countplot(data=austo, x='House_loan', ax=axes[2][1])\n",
    "plt.show()"
   ]
  },
  {
   "cell_type": "markdown",
   "id": "0933a7a7",
   "metadata": {},
   "source": [
    "##### INSIGHTS:\n",
    "\n",
    "##### Most of the customer counts are Male. \n",
    "##### Salaried person are more purchasing the car than a Business Man\n",
    "##### Married Peoples contributes most in number of purchasing than Singles\n",
    "##### Most of the Customers of Austo Motor Company are Post Graduated\n",
    "##### Customers with Personal Loan & without Personal Loan are almost same.\n",
    "##### Whereas Customers without House_loan are maximum when compared to those who have House_loan"
   ]
  },
  {
   "cell_type": "markdown",
   "id": "bdf2ca46",
   "metadata": {},
   "source": [
    "### 1.D Understanding the relationship between all the features of the data"
   ]
  },
  {
   "cell_type": "markdown",
   "id": "ee83f434",
   "metadata": {},
   "source": [
    "###### Bivariate Analysis"
   ]
  },
  {
   "cell_type": "code",
   "execution_count": 19,
   "id": "6b4a9d48",
   "metadata": {},
   "outputs": [
    {
     "data": {
      "image/png": "[encoded data removed]",
      "text/plain": [
       "<Figure size 432x288 with 1 Axes>"
      ]
     },
     "metadata": {
      "needs_background": "light"
     },
     "output_type": "display_data"
    }
   ],
   "source": [
    "sns.barplot(x='Gender', y='Price', ci=None, data=austo);"
   ]
  },
  {
   "cell_type": "markdown",
   "id": "5acd439d",
   "metadata": {},
   "source": [
    "- Females have contributed more Average Revenue than Males"
   ]
  },
  {
   "cell_type": "code",
   "execution_count": 20,
   "id": "397b0b82",
   "metadata": {},
   "outputs": [
    {
     "data": {
      "image/png": "[encoded data removed]",
      "text/plain": [
       "<Figure size 432x288 with 1 Axes>"
      ]
     },
     "metadata": {
      "needs_background": "light"
     },
     "output_type": "display_data"
    }
   ],
   "source": [
    "sns.barplot(x='Profession', y='Price', ci=None, data=austo);"
   ]
  },
  {
   "cell_type": "code",
   "execution_count": 21,
   "id": "ce261cdd",
   "metadata": {},
   "outputs": [
    {
     "data": {
      "text/html": [
       "<div>\n",
       "<style scoped>\n",
       "    .dataframe tbody tr th:only-of-type {\n",
       "        vertical-align: middle;\n",
       "    }\n",
       "\n",
       "    .dataframe tbody tr th {\n",
       "        vertical-align: top;\n",
       "    }\n",
       "\n",
       "    .dataframe thead th {\n",
       "        text-align: right;\n",
       "    }\n",
       "</style>\n",
       "<table border=\"1\" class=\"dataframe\">\n",
       "  <thead>\n",
       "    <tr style=\"text-align: right;\">\n",
       "      <th>Profession</th>\n",
       "      <th>Business</th>\n",
       "      <th>Salaried</th>\n",
       "      <th>All</th>\n",
       "    </tr>\n",
       "    <tr>\n",
       "      <th>Make</th>\n",
       "      <th></th>\n",
       "      <th></th>\n",
       "      <th></th>\n",
       "    </tr>\n",
       "  </thead>\n",
       "  <tbody>\n",
       "    <tr>\n",
       "      <th>Hatchback</th>\n",
       "      <td>0.112502</td>\n",
       "      <td>0.113928</td>\n",
       "      <td>0.226463</td>\n",
       "    </tr>\n",
       "    <tr>\n",
       "      <th>SUV</th>\n",
       "      <td>0.241119</td>\n",
       "      <td>0.237717</td>\n",
       "      <td>0.477531</td>\n",
       "    </tr>\n",
       "    <tr>\n",
       "      <th>Sedan</th>\n",
       "      <td>0.142551</td>\n",
       "      <td>0.152184</td>\n",
       "      <td>0.296006</td>\n",
       "    </tr>\n",
       "    <tr>\n",
       "      <th>All</th>\n",
       "      <td>0.471979</td>\n",
       "      <td>0.528021</td>\n",
       "      <td>1.000000</td>\n",
       "    </tr>\n",
       "  </tbody>\n",
       "</table>\n",
       "</div>"
      ],
      "text/plain": [
       "Profession  Business  Salaried       All\n",
       "Make                                    \n",
       "Hatchback   0.112502  0.113928  0.226463\n",
       "SUV         0.241119  0.237717  0.477531\n",
       "Sedan       0.142551  0.152184  0.296006\n",
       "All         0.471979  0.528021  1.000000"
      ]
     },
     "execution_count": 21,
     "metadata": {},
     "output_type": "execute_result"
    }
   ],
   "source": [
    "pd.crosstab( austo.Make, austo.Profession, values=austo.Price, aggfunc=np.mean,  normalize='all',margins=True)"
   ]
  },
  {
   "cell_type": "markdown",
   "id": "692f55a1",
   "metadata": {},
   "source": [
    "- Salaried Professionals has slight high purchasing pattern of Austo Car than Business Professionals\n",
    "- 47% of all Professions prefers SUV"
   ]
  },
  {
   "cell_type": "code",
   "execution_count": 22,
   "id": "835d5029",
   "metadata": {},
   "outputs": [
    {
     "data": {
      "image/png": "[encoded data removed]",
      "text/plain": [
       "<Figure size 432x288 with 1 Axes>"
      ]
     },
     "metadata": {
      "needs_background": "light"
     },
     "output_type": "display_data"
    }
   ],
   "source": [
    "sns.barplot(x='Marital_status', y='Price', ci=None, data=austo);"
   ]
  },
  {
   "cell_type": "code",
   "execution_count": 23,
   "id": "41b50e9f",
   "metadata": {},
   "outputs": [
    {
     "data": {
      "image/png": "[encoded data removed]",
      "text/plain": [
       "<Figure size 432x288 with 1 Axes>"
      ]
     },
     "metadata": {
      "needs_background": "light"
     },
     "output_type": "display_data"
    }
   ],
   "source": [
    "sns.barplot(x='Make', y='Price', hue='Marital_status', ci=None, data=austo);"
   ]
  },
  {
   "cell_type": "markdown",
   "id": "723f6965",
   "metadata": {},
   "source": [
    "- Non Married counts are much lower compared to the Married persons but Average Purchase price are just slightly different. Hence, Single's are buying high ticket value Austo Car than Married Person, among which SUV is the most preferred by Married & Single's"
   ]
  },
  {
   "cell_type": "code",
   "execution_count": 24,
   "id": "42081f50",
   "metadata": {},
   "outputs": [
    {
     "data": {
      "image/png": "[encoded data removed]",
      "text/plain": [
       "<Figure size 432x288 with 1 Axes>"
      ]
     },
     "metadata": {
      "needs_background": "light"
     },
     "output_type": "display_data"
    }
   ],
   "source": [
    "sns.countplot(x='Make', hue='Education', data=austo);"
   ]
  },
  {
   "cell_type": "markdown",
   "id": "87a13038",
   "metadata": {},
   "source": [
    "- Sedan are purchased by most numbers of the Post Graduates."
   ]
  },
  {
   "cell_type": "code",
   "execution_count": 25,
   "id": "3118d3fc",
   "metadata": {},
   "outputs": [
    {
     "data": {
      "image/png": "[encoded data removed]",
      "text/plain": [
       "<Figure size 864x360 with 2 Axes>"
      ]
     },
     "metadata": {
      "needs_background": "light"
     },
     "output_type": "display_data"
    }
   ],
   "source": [
    "plt.figure(figsize=(12,5))\n",
    "plt.subplot(1,2,1)\n",
    "sns.barplot(x='House_loan', y='Price', ci=None, data=austo);\n",
    "plt.subplot(1,2,2)\n",
    "sns.barplot(x='Personal_loan', y='Price', ci=None, data=austo);\n",
    "plt.show()"
   ]
  },
  {
   "cell_type": "markdown",
   "id": "b6a1d21f",
   "metadata": {},
   "source": [
    "- Clearly, customers who does not have House Loans or Personal loans have a higher purchase pattern."
   ]
  },
  {
   "cell_type": "code",
   "execution_count": 26,
   "id": "99a10621",
   "metadata": {},
   "outputs": [
    {
     "data": {
      "image/png": "[encoded data removed]",
      "text/plain": [
       "<Figure size 432x288 with 1 Axes>"
      ]
     },
     "metadata": {
      "needs_background": "light"
     },
     "output_type": "display_data"
    }
   ],
   "source": [
    "sns.scatterplot(x='Price', y='Total_salary', hue='Make', data=austo);"
   ]
  },
  {
   "cell_type": "markdown",
   "id": "17dbc5e6",
   "metadata": {},
   "source": [
    "- There is not much co relation between Salary and purchase type of Austo Cars, but SUV are bought by people of High Salary as it it the costlier in three segments of the car"
   ]
  },
  {
   "cell_type": "code",
   "execution_count": 27,
   "id": "47e033ce",
   "metadata": {},
   "outputs": [
    {
     "data": {
      "image/png": "[encoded data removed]",
      "text/plain": [
       "<Figure size 432x288 with 2 Axes>"
      ]
     },
     "metadata": {
      "needs_background": "light"
     },
     "output_type": "display_data"
    }
   ],
   "source": [
    "sns.heatmap(austo.corr(), annot=True);"
   ]
  },
  {
   "cell_type": "markdown",
   "id": "6c2445e1",
   "metadata": {},
   "source": [
    "1. Age & Salary has a good positive Correlation, which means as the Age increases the Salary increases.\n",
    "2. The Age of a person has a good impact in the preference of cars.\n",
    " - As the Age increases, salary increases hence they go for costlier brand."
   ]
  },
  {
   "cell_type": "markdown",
   "id": "b7e13d5d",
   "metadata": {},
   "source": [
    "#### 1 E. Justification on the given previous observation"
   ]
  },
  {
   "cell_type": "markdown",
   "id": "6525e220",
   "metadata": {},
   "source": [
    "###### E1) Steve Roger says “Men prefer SUV by a large margin, compared to the women”"
   ]
  },
  {
   "cell_type": "code",
   "execution_count": 32,
   "id": "49315cf6",
   "metadata": {},
   "outputs": [
    {
     "data": {
      "image/png": "[encoded data removed]",
      "text/plain": [
       "<Figure size 504x432 with 1 Axes>"
      ]
     },
     "metadata": {
      "needs_background": "light"
     },
     "output_type": "display_data"
    }
   ],
   "source": [
    "plt.figure(figsize=(7,6))\n",
    "sns.boxplot(x='Make', y='Price', hue='Gender', data=austo);"
   ]
  },
  {
   "cell_type": "code",
   "execution_count": 56,
   "id": "2aa82878",
   "metadata": {},
   "outputs": [
    {
     "data": {
      "text/html": [
       "<div>\n",
       "<style scoped>\n",
       "    .dataframe tbody tr th:only-of-type {\n",
       "        vertical-align: middle;\n",
       "    }\n",
       "\n",
       "    .dataframe tbody tr th {\n",
       "        vertical-align: top;\n",
       "    }\n",
       "\n",
       "    .dataframe thead th {\n",
       "        text-align: right;\n",
       "    }\n",
       "</style>\n",
       "<table border=\"1\" class=\"dataframe\">\n",
       "  <thead>\n",
       "    <tr style=\"text-align: right;\">\n",
       "      <th>Gender</th>\n",
       "      <th>Female</th>\n",
       "      <th>Male</th>\n",
       "      <th>All</th>\n",
       "    </tr>\n",
       "    <tr>\n",
       "      <th>Make</th>\n",
       "      <th></th>\n",
       "      <th></th>\n",
       "      <th></th>\n",
       "    </tr>\n",
       "  </thead>\n",
       "  <tbody>\n",
       "    <tr>\n",
       "      <th>Hatchback</th>\n",
       "      <td>15</td>\n",
       "      <td>567</td>\n",
       "      <td>582</td>\n",
       "    </tr>\n",
       "    <tr>\n",
       "      <th>SUV</th>\n",
       "      <td>173</td>\n",
       "      <td>124</td>\n",
       "      <td>297</td>\n",
       "    </tr>\n",
       "    <tr>\n",
       "      <th>Sedan</th>\n",
       "      <td>141</td>\n",
       "      <td>561</td>\n",
       "      <td>702</td>\n",
       "    </tr>\n",
       "    <tr>\n",
       "      <th>All</th>\n",
       "      <td>329</td>\n",
       "      <td>1252</td>\n",
       "      <td>1581</td>\n",
       "    </tr>\n",
       "  </tbody>\n",
       "</table>\n",
       "</div>"
      ],
      "text/plain": [
       "Gender     Female  Male   All\n",
       "Make                         \n",
       "Hatchback      15   567   582\n",
       "SUV           173   124   297\n",
       "Sedan         141   561   702\n",
       "All           329  1252  1581"
      ]
     },
     "execution_count": 56,
     "metadata": {},
     "output_type": "execute_result"
    }
   ],
   "source": [
    "pd.pivot_table(austo,'Price', index=['Make'], columns=[ 'Gender'], aggfunc=len, margins=True)"
   ]
  },
  {
   "cell_type": "markdown",
   "id": "09097898",
   "metadata": {},
   "source": [
    "- Clearly, analyzing the purchase pattern of both Gender, SUV purchased by Females are more than Males\n",
    "- Also the number of SUV purchased by Women are greater than Men hence, purchase Ratio is also more.\n",
    "- From the pivot table, Purchase Ratio of Suv by Female is greater than Male \n",
    "\n",
    "##### Hence statement made by Steven Roger is incorrect"
   ]
  },
  {
   "cell_type": "markdown",
   "id": "ecfeadc8",
   "metadata": {},
   "source": [
    "##### E2) Ned Stark believes that a salaried person is more likely to buy a Sedan."
   ]
  },
  {
   "cell_type": "code",
   "execution_count": 57,
   "id": "38be5bff",
   "metadata": {},
   "outputs": [
    {
     "data": {
      "image/png": "[encoded data removed]",
      "text/plain": [
       "<Figure size 432x288 with 1 Axes>"
      ]
     },
     "metadata": {
      "needs_background": "light"
     },
     "output_type": "display_data"
    }
   ],
   "source": [
    "sns.countplot(x='Make', hue='Profession', data=austo);"
   ]
  },
  {
   "cell_type": "code",
   "execution_count": 66,
   "id": "0886f594",
   "metadata": {},
   "outputs": [
    {
     "data": {
      "text/html": [
       "<div>\n",
       "<style scoped>\n",
       "    .dataframe tbody tr th:only-of-type {\n",
       "        vertical-align: middle;\n",
       "    }\n",
       "\n",
       "    .dataframe tbody tr th {\n",
       "        vertical-align: top;\n",
       "    }\n",
       "\n",
       "    .dataframe thead th {\n",
       "        text-align: right;\n",
       "    }\n",
       "</style>\n",
       "<table border=\"1\" class=\"dataframe\">\n",
       "  <thead>\n",
       "    <tr style=\"text-align: right;\">\n",
       "      <th>Profession</th>\n",
       "      <th>Business</th>\n",
       "      <th>Salaried</th>\n",
       "    </tr>\n",
       "    <tr>\n",
       "      <th>Make</th>\n",
       "      <th></th>\n",
       "      <th></th>\n",
       "    </tr>\n",
       "  </thead>\n",
       "  <tbody>\n",
       "    <tr>\n",
       "      <th>Hatchback</th>\n",
       "      <td>0.135554</td>\n",
       "      <td>0.138220</td>\n",
       "    </tr>\n",
       "    <tr>\n",
       "      <th>SUV</th>\n",
       "      <td>0.089161</td>\n",
       "      <td>0.205437</td>\n",
       "    </tr>\n",
       "    <tr>\n",
       "      <th>Sedan</th>\n",
       "      <td>0.181237</td>\n",
       "      <td>0.250391</td>\n",
       "    </tr>\n",
       "  </tbody>\n",
       "</table>\n",
       "</div>"
      ],
      "text/plain": [
       "Profession  Business  Salaried\n",
       "Make                          \n",
       "Hatchback   0.135554  0.138220\n",
       "SUV         0.089161  0.205437\n",
       "Sedan       0.181237  0.250391"
      ]
     },
     "execution_count": 66,
     "metadata": {},
     "output_type": "execute_result"
    }
   ],
   "source": [
    "pd.crosstab(austo.Make, austo.Profession, values=austo.Price, aggfunc=np.sum, normalize='all')"
   ]
  },
  {
   "cell_type": "markdown",
   "id": "6dd4bd2f",
   "metadata": {},
   "source": [
    "- Salaried Professionals are most when comes to buying a Sedan.\n",
    "- 25% of Sedan Sales comes from Salaried Person\n",
    "- Hence Statement made by Ned Stark is correct"
   ]
  },
  {
   "cell_type": "markdown",
   "id": "65a4ee8b",
   "metadata": {},
   "source": [
    "##### E3) Sheldon Cooper does not believe any of them; he claims that a salaried male is an easier target for a SUV sale over a Sedan Sale."
   ]
  },
  {
   "cell_type": "code",
   "execution_count": 47,
   "id": "627c5d50",
   "metadata": {},
   "outputs": [
    {
     "data": {
      "image/png": "[encoded data removed]",
      "text/plain": [
       "<Figure size 432x288 with 1 Axes>"
      ]
     },
     "metadata": {
      "needs_background": "light"
     },
     "output_type": "display_data"
    }
   ],
   "source": [
    "sns.countplot(x='Profession', hue='Make', data=austo);"
   ]
  },
  {
   "cell_type": "code",
   "execution_count": 76,
   "id": "0e2fd1a0",
   "metadata": {},
   "outputs": [
    {
     "data": {
      "text/plain": [
       "Gender  Profession\n",
       "Female  Salaried      224\n",
       "        Business      105\n",
       "Male    Salaried      672\n",
       "        Business      580\n",
       "Name: Profession, dtype: int64"
      ]
     },
     "execution_count": 76,
     "metadata": {},
     "output_type": "execute_result"
    }
   ],
   "source": [
    "austo.groupby('Gender')['Profession'].value_counts()"
   ]
  },
  {
   "cell_type": "code",
   "execution_count": 70,
   "id": "528be544",
   "metadata": {},
   "outputs": [
    {
     "data": {
      "text/html": [
       "<div>\n",
       "<style scoped>\n",
       "    .dataframe tbody tr th:only-of-type {\n",
       "        vertical-align: middle;\n",
       "    }\n",
       "\n",
       "    .dataframe tbody tr th {\n",
       "        vertical-align: top;\n",
       "    }\n",
       "\n",
       "    .dataframe thead th {\n",
       "        text-align: right;\n",
       "    }\n",
       "</style>\n",
       "<table border=\"1\" class=\"dataframe\">\n",
       "  <thead>\n",
       "    <tr style=\"text-align: right;\">\n",
       "      <th></th>\n",
       "      <th>Profession</th>\n",
       "      <th>Business</th>\n",
       "      <th>Salaried</th>\n",
       "      <th>All</th>\n",
       "    </tr>\n",
       "    <tr>\n",
       "      <th>Make</th>\n",
       "      <th>Gender</th>\n",
       "      <th></th>\n",
       "      <th></th>\n",
       "      <th></th>\n",
       "    </tr>\n",
       "  </thead>\n",
       "  <tbody>\n",
       "    <tr>\n",
       "      <th rowspan=\"2\" valign=\"top\">Hatchback</th>\n",
       "      <th>Female</th>\n",
       "      <td>NaN</td>\n",
       "      <td>15.0</td>\n",
       "      <td>15</td>\n",
       "    </tr>\n",
       "    <tr>\n",
       "      <th>Male</th>\n",
       "      <td>290.0</td>\n",
       "      <td>277.0</td>\n",
       "      <td>567</td>\n",
       "    </tr>\n",
       "    <tr>\n",
       "      <th rowspan=\"2\" valign=\"top\">SUV</th>\n",
       "      <th>Female</th>\n",
       "      <td>55.0</td>\n",
       "      <td>118.0</td>\n",
       "      <td>173</td>\n",
       "    </tr>\n",
       "    <tr>\n",
       "      <th>Male</th>\n",
       "      <td>34.0</td>\n",
       "      <td>90.0</td>\n",
       "      <td>124</td>\n",
       "    </tr>\n",
       "    <tr>\n",
       "      <th rowspan=\"2\" valign=\"top\">Sedan</th>\n",
       "      <th>Female</th>\n",
       "      <td>50.0</td>\n",
       "      <td>91.0</td>\n",
       "      <td>141</td>\n",
       "    </tr>\n",
       "    <tr>\n",
       "      <th>Male</th>\n",
       "      <td>256.0</td>\n",
       "      <td>305.0</td>\n",
       "      <td>561</td>\n",
       "    </tr>\n",
       "    <tr>\n",
       "      <th>All</th>\n",
       "      <th></th>\n",
       "      <td>685.0</td>\n",
       "      <td>896.0</td>\n",
       "      <td>1581</td>\n",
       "    </tr>\n",
       "  </tbody>\n",
       "</table>\n",
       "</div>"
      ],
      "text/plain": [
       "Profession        Business  Salaried   All\n",
       "Make      Gender                          \n",
       "Hatchback Female       NaN      15.0    15\n",
       "          Male       290.0     277.0   567\n",
       "SUV       Female      55.0     118.0   173\n",
       "          Male        34.0      90.0   124\n",
       "Sedan     Female      50.0      91.0   141\n",
       "          Male       256.0     305.0   561\n",
       "All                  685.0     896.0  1581"
      ]
     },
     "execution_count": 70,
     "metadata": {},
     "output_type": "execute_result"
    }
   ],
   "source": [
    "pd.pivot_table(austo,'Price', index=['Make', 'Gender'], columns=[ 'Profession'], aggfunc=len, margins=True)"
   ]
  },
  {
   "cell_type": "markdown",
   "id": "4409edad",
   "metadata": {},
   "source": [
    "-  Total Count of Salaried Male are - 672\n",
    "-  Ratio of Hatchback by Salaried men - 277/672 = 0.41\n",
    "-  Ratio of SUV by Salaried men - 90/672 = 0.13\n",
    "-  Ratio of Sedan by Salaried men - 305/672 = 0.45\n",
    "\n",
    "Salaried person are the most in number who purchases Austo Car from the Barplot but when we tried to derive some more insights from the charts, we found that Ratio of Sedan purchased by Salaried men are most. \n",
    "##### Hence above statement is correct"
   ]
  },
  {
   "cell_type": "markdown",
   "id": "426b8f77",
   "metadata": {},
   "source": [
    "#### F. Amount spent on purchasing automobiles across the following categories. "
   ]
  },
  {
   "cell_type": "markdown",
   "id": "c7c543e7",
   "metadata": {},
   "source": [
    "##### F1. Amount  Spent on purchasing Automobiles by GENDER"
   ]
  },
  {
   "cell_type": "code",
   "execution_count": 79,
   "id": "60b6c1a0",
   "metadata": {},
   "outputs": [
    {
     "data": {
      "image/png": "[encoded data removed]",
      "text/plain": [
       "<Figure size 504x432 with 1 Axes>"
      ]
     },
     "metadata": {
      "needs_background": "light"
     },
     "output_type": "display_data"
    }
   ],
   "source": [
    "plt.figure(figsize=(7,6))\n",
    "sns.barplot(x='Make', y='Price', hue='Gender', estimator=np.sum, data=austo);"
   ]
  },
  {
   "cell_type": "code",
   "execution_count": 45,
   "id": "c2a31153",
   "metadata": {},
   "outputs": [
    {
     "data": {
      "text/html": [
       "<div>\n",
       "<style scoped>\n",
       "    .dataframe tbody tr th:only-of-type {\n",
       "        vertical-align: middle;\n",
       "    }\n",
       "\n",
       "    .dataframe tbody tr th {\n",
       "        vertical-align: top;\n",
       "    }\n",
       "\n",
       "    .dataframe thead th {\n",
       "        text-align: right;\n",
       "    }\n",
       "</style>\n",
       "<table border=\"1\" class=\"dataframe\">\n",
       "  <thead>\n",
       "    <tr style=\"text-align: right;\">\n",
       "      <th>Gender</th>\n",
       "      <th>Female</th>\n",
       "      <th>Male</th>\n",
       "      <th>All</th>\n",
       "    </tr>\n",
       "    <tr>\n",
       "      <th>Make</th>\n",
       "      <th></th>\n",
       "      <th></th>\n",
       "      <th></th>\n",
       "    </tr>\n",
       "  </thead>\n",
       "  <tbody>\n",
       "    <tr>\n",
       "      <th>Hatchback</th>\n",
       "      <td>0.113585</td>\n",
       "      <td>0.109373</td>\n",
       "      <td>0.226463</td>\n",
       "    </tr>\n",
       "    <tr>\n",
       "      <th>SUV</th>\n",
       "      <td>0.221160</td>\n",
       "      <td>0.244388</td>\n",
       "      <td>0.477531</td>\n",
       "    </tr>\n",
       "    <tr>\n",
       "      <th>Sedan</th>\n",
       "      <td>0.176883</td>\n",
       "      <td>0.134610</td>\n",
       "      <td>0.296006</td>\n",
       "    </tr>\n",
       "    <tr>\n",
       "      <th>All</th>\n",
       "      <td>0.595412</td>\n",
       "      <td>0.404588</td>\n",
       "      <td>1.000000</td>\n",
       "    </tr>\n",
       "  </tbody>\n",
       "</table>\n",
       "</div>"
      ],
      "text/plain": [
       "Gender       Female      Male       All\n",
       "Make                                   \n",
       "Hatchback  0.113585  0.109373  0.226463\n",
       "SUV        0.221160  0.244388  0.477531\n",
       "Sedan      0.176883  0.134610  0.296006\n",
       "All        0.595412  0.404588  1.000000"
      ]
     },
     "execution_count": 45,
     "metadata": {},
     "output_type": "execute_result"
    }
   ],
   "source": [
    "pd.crosstab (austo.Make, austo.Gender, values=austo.Price, aggfunc=np.mean, normalize='all', margins=True)"
   ]
  },
  {
   "cell_type": "markdown",
   "id": "ab764f87",
   "metadata": {},
   "source": [
    "- Women prefers purchasing High End models of car\n",
    "- Although Mens have good preferance to buy SUV, they are the primary customer for Low End Models"
   ]
  },
  {
   "cell_type": "markdown",
   "id": "28a0fbc5",
   "metadata": {},
   "source": [
    "##### F2) How does peoples with Personal Loan impact the Sale of Automobile?"
   ]
  },
  {
   "cell_type": "code",
   "execution_count": 86,
   "id": "037465db",
   "metadata": {},
   "outputs": [
    {
     "data": {
      "image/png": "[encoded data removed]",
      "text/plain": [
       "<Figure size 504x432 with 1 Axes>"
      ]
     },
     "metadata": {
      "needs_background": "light"
     },
     "output_type": "display_data"
    }
   ],
   "source": [
    "plt.figure(figsize=(7,6))\n",
    "sns.boxplot(x='Personal_loan', y='Price', hue='Make', data=austo);"
   ]
  },
  {
   "cell_type": "code",
   "execution_count": 81,
   "id": "9166133c",
   "metadata": {},
   "outputs": [
    {
     "data": {
      "text/html": [
       "<div>\n",
       "<style scoped>\n",
       "    .dataframe tbody tr th:only-of-type {\n",
       "        vertical-align: middle;\n",
       "    }\n",
       "\n",
       "    .dataframe tbody tr th {\n",
       "        vertical-align: top;\n",
       "    }\n",
       "\n",
       "    .dataframe thead th {\n",
       "        text-align: right;\n",
       "    }\n",
       "</style>\n",
       "<table border=\"1\" class=\"dataframe\">\n",
       "  <thead>\n",
       "    <tr style=\"text-align: right;\">\n",
       "      <th>Personal_loan</th>\n",
       "      <th>No</th>\n",
       "      <th>Yes</th>\n",
       "    </tr>\n",
       "    <tr>\n",
       "      <th>Make</th>\n",
       "      <th></th>\n",
       "      <th></th>\n",
       "    </tr>\n",
       "  </thead>\n",
       "  <tbody>\n",
       "    <tr>\n",
       "      <th>Hatchback</th>\n",
       "      <td>0.137971</td>\n",
       "      <td>0.135803</td>\n",
       "    </tr>\n",
       "    <tr>\n",
       "      <th>SUV</th>\n",
       "      <td>0.184311</td>\n",
       "      <td>0.110288</td>\n",
       "    </tr>\n",
       "    <tr>\n",
       "      <th>Sedan</th>\n",
       "      <td>0.192822</td>\n",
       "      <td>0.238806</td>\n",
       "    </tr>\n",
       "  </tbody>\n",
       "</table>\n",
       "</div>"
      ],
      "text/plain": [
       "Personal_loan        No       Yes\n",
       "Make                             \n",
       "Hatchback      0.137971  0.135803\n",
       "SUV            0.184311  0.110288\n",
       "Sedan          0.192822  0.238806"
      ]
     },
     "execution_count": 81,
     "metadata": {},
     "output_type": "execute_result"
    }
   ],
   "source": [
    "pd.crosstab(austo.Make, austo.Personal_loan, values=austo.Price, aggfunc=np.sum, normalize='all')"
   ]
  },
  {
   "cell_type": "markdown",
   "id": "1728737c",
   "metadata": {},
   "source": [
    "Sedan are purchased by the peoples who generally takes Personal_loan, while SUV are prefered the one who doesn't perfer Personal_loan to purchase"
   ]
  },
  {
   "cell_type": "markdown",
   "id": "595c6306",
   "metadata": {},
   "source": [
    "#### G. Working Partner leads to the purchase of High Price Cars"
   ]
  },
  {
   "cell_type": "code",
   "execution_count": 94,
   "id": "e62cd300",
   "metadata": {},
   "outputs": [
    {
     "data": {
      "text/html": [
       "<div>\n",
       "<style scoped>\n",
       "    .dataframe tbody tr th:only-of-type {\n",
       "        vertical-align: middle;\n",
       "    }\n",
       "\n",
       "    .dataframe tbody tr th {\n",
       "        vertical-align: top;\n",
       "    }\n",
       "\n",
       "    .dataframe thead th {\n",
       "        text-align: right;\n",
       "    }\n",
       "</style>\n",
       "<table border=\"1\" class=\"dataframe\">\n",
       "  <thead>\n",
       "    <tr style=\"text-align: right;\">\n",
       "      <th></th>\n",
       "      <th></th>\n",
       "      <th>Make</th>\n",
       "    </tr>\n",
       "    <tr>\n",
       "      <th>Partner_working</th>\n",
       "      <th>Make</th>\n",
       "      <th></th>\n",
       "    </tr>\n",
       "  </thead>\n",
       "  <tbody>\n",
       "    <tr>\n",
       "      <th rowspan=\"3\" valign=\"top\">No</th>\n",
       "      <th>Sedan</th>\n",
       "      <td>288</td>\n",
       "    </tr>\n",
       "    <tr>\n",
       "      <th>Hatchback</th>\n",
       "      <td>281</td>\n",
       "    </tr>\n",
       "    <tr>\n",
       "      <th>SUV</th>\n",
       "      <td>144</td>\n",
       "    </tr>\n",
       "    <tr>\n",
       "      <th rowspan=\"3\" valign=\"top\">Yes</th>\n",
       "      <th>Sedan</th>\n",
       "      <td>414</td>\n",
       "    </tr>\n",
       "    <tr>\n",
       "      <th>Hatchback</th>\n",
       "      <td>301</td>\n",
       "    </tr>\n",
       "    <tr>\n",
       "      <th>SUV</th>\n",
       "      <td>153</td>\n",
       "    </tr>\n",
       "  </tbody>\n",
       "</table>\n",
       "</div>"
      ],
      "text/plain": [
       "                           Make\n",
       "Partner_working Make           \n",
       "No              Sedan       288\n",
       "                Hatchback   281\n",
       "                SUV         144\n",
       "Yes             Sedan       414\n",
       "                Hatchback   301\n",
       "                SUV         153"
      ]
     },
     "execution_count": 94,
     "metadata": {},
     "output_type": "execute_result"
    }
   ],
   "source": [
    "pd.DataFrame(austo.groupby('Partner_working')['Make'].value_counts())"
   ]
  },
  {
   "cell_type": "code",
   "execution_count": 98,
   "id": "5f9f3bf9",
   "metadata": {},
   "outputs": [
    {
     "data": {
      "text/html": [
       "<div>\n",
       "<style scoped>\n",
       "    .dataframe tbody tr th:only-of-type {\n",
       "        vertical-align: middle;\n",
       "    }\n",
       "\n",
       "    .dataframe tbody tr th {\n",
       "        vertical-align: top;\n",
       "    }\n",
       "\n",
       "    .dataframe thead th {\n",
       "        text-align: right;\n",
       "    }\n",
       "</style>\n",
       "<table border=\"1\" class=\"dataframe\">\n",
       "  <thead>\n",
       "    <tr style=\"text-align: right;\">\n",
       "      <th>Partner_working</th>\n",
       "      <th>No</th>\n",
       "      <th>Yes</th>\n",
       "    </tr>\n",
       "    <tr>\n",
       "      <th>Make</th>\n",
       "      <th></th>\n",
       "      <th></th>\n",
       "    </tr>\n",
       "  </thead>\n",
       "  <tbody>\n",
       "    <tr>\n",
       "      <th>Hatchback</th>\n",
       "      <td>0.131432</td>\n",
       "      <td>0.142342</td>\n",
       "    </tr>\n",
       "    <tr>\n",
       "      <th>SUV</th>\n",
       "      <td>0.143728</td>\n",
       "      <td>0.150871</td>\n",
       "    </tr>\n",
       "    <tr>\n",
       "      <th>Sedan</th>\n",
       "      <td>0.180917</td>\n",
       "      <td>0.250711</td>\n",
       "    </tr>\n",
       "  </tbody>\n",
       "</table>\n",
       "</div>"
      ],
      "text/plain": [
       "Partner_working        No       Yes\n",
       "Make                               \n",
       "Hatchback        0.131432  0.142342\n",
       "SUV              0.143728  0.150871\n",
       "Sedan            0.180917  0.250711"
      ]
     },
     "execution_count": 98,
     "metadata": {},
     "output_type": "execute_result"
    }
   ],
   "source": [
    "pd.crosstab(austo.Make, austo.Partner_working, values=austo.Price, aggfunc=np.sum, normalize='all')"
   ]
  },
  {
   "cell_type": "code",
   "execution_count": 99,
   "id": "e37749bd",
   "metadata": {},
   "outputs": [
    {
     "data": {
      "image/png": "[encoded data removed]",
      "text/plain": [
       "<Figure size 432x288 with 1 Axes>"
      ]
     },
     "metadata": {
      "needs_background": "light"
     },
     "output_type": "display_data"
    }
   ],
   "source": [
    "sns.barplot(x='Partner_working', y='Price', hue='Make', estimator=np.sum, ci=None, data=austo);"
   ]
  },
  {
   "cell_type": "markdown",
   "id": "d9929b19",
   "metadata": {},
   "source": [
    "- Purchase pattern of High priced Car does not, depend on the parameter of Partner_working.\n",
    "\n",
    "- Sedan has the most Sale contribution towards the Austo Car with the ones whose Partner are working"
   ]
  },
  {
   "cell_type": "markdown",
   "id": "28c580ae",
   "metadata": {},
   "source": [
    "#### H. The main objective of this analysis is to devise an improved marketing strategy to send targeted information to different groups of potential buyers present in the data. For the current analysis use the Gender and Marital_status - fields to arrive at groups with similar purchase history."
   ]
  },
  {
   "cell_type": "code",
   "execution_count": 112,
   "id": "e7e5dc91",
   "metadata": {},
   "outputs": [
    {
     "data": {
      "text/html": [
       "<div>\n",
       "<style scoped>\n",
       "    .dataframe tbody tr th:only-of-type {\n",
       "        vertical-align: middle;\n",
       "    }\n",
       "\n",
       "    .dataframe tbody tr th {\n",
       "        vertical-align: top;\n",
       "    }\n",
       "\n",
       "    .dataframe thead th {\n",
       "        text-align: right;\n",
       "    }\n",
       "</style>\n",
       "<table border=\"1\" class=\"dataframe\">\n",
       "  <thead>\n",
       "    <tr style=\"text-align: right;\">\n",
       "      <th></th>\n",
       "      <th></th>\n",
       "      <th></th>\n",
       "      <th>Price</th>\n",
       "    </tr>\n",
       "    <tr>\n",
       "      <th>Gender</th>\n",
       "      <th>Marital_status</th>\n",
       "      <th>Make</th>\n",
       "      <th></th>\n",
       "    </tr>\n",
       "  </thead>\n",
       "  <tbody>\n",
       "    <tr>\n",
       "      <th rowspan=\"6\" valign=\"top\">Female</th>\n",
       "      <th rowspan=\"3\" valign=\"top\">Married</th>\n",
       "      <th>Hatchback</th>\n",
       "      <td>392000</td>\n",
       "    </tr>\n",
       "    <tr>\n",
       "      <th>SUV</th>\n",
       "      <td>8849000</td>\n",
       "    </tr>\n",
       "    <tr>\n",
       "      <th>Sedan</th>\n",
       "      <td>5470000</td>\n",
       "    </tr>\n",
       "    <tr>\n",
       "      <th rowspan=\"3\" valign=\"top\">Single</th>\n",
       "      <th>Hatchback</th>\n",
       "      <td>20000</td>\n",
       "    </tr>\n",
       "    <tr>\n",
       "      <th>SUV</th>\n",
       "      <td>403000</td>\n",
       "    </tr>\n",
       "    <tr>\n",
       "      <th>Sedan</th>\n",
       "      <td>561000</td>\n",
       "    </tr>\n",
       "    <tr>\n",
       "      <th rowspan=\"6\" valign=\"top\">Male</th>\n",
       "      <th rowspan=\"3\" valign=\"top\">Married</th>\n",
       "      <th>Hatchback</th>\n",
       "      <td>12886000</td>\n",
       "    </tr>\n",
       "    <tr>\n",
       "      <th>SUV</th>\n",
       "      <td>6810000</td>\n",
       "    </tr>\n",
       "    <tr>\n",
       "      <th>Sedan</th>\n",
       "      <td>17253000</td>\n",
       "    </tr>\n",
       "    <tr>\n",
       "      <th rowspan=\"3\" valign=\"top\">Single</th>\n",
       "      <th>Hatchback</th>\n",
       "      <td>2110000</td>\n",
       "    </tr>\n",
       "    <tr>\n",
       "      <th>SUV</th>\n",
       "      <td>518000</td>\n",
       "    </tr>\n",
       "    <tr>\n",
       "      <th>Sedan</th>\n",
       "      <td>1008000</td>\n",
       "    </tr>\n",
       "  </tbody>\n",
       "</table>\n",
       "</div>"
      ],
      "text/plain": [
       "                                    Price\n",
       "Gender Marital_status Make               \n",
       "Female Married        Hatchback    392000\n",
       "                      SUV         8849000\n",
       "                      Sedan       5470000\n",
       "       Single         Hatchback     20000\n",
       "                      SUV          403000\n",
       "                      Sedan        561000\n",
       "Male   Married        Hatchback  12886000\n",
       "                      SUV         6810000\n",
       "                      Sedan      17253000\n",
       "       Single         Hatchback   2110000\n",
       "                      SUV          518000\n",
       "                      Sedan       1008000"
      ]
     },
     "execution_count": 112,
     "metadata": {},
     "output_type": "execute_result"
    }
   ],
   "source": [
    "pd.DataFrame(austo.groupby(['Gender', 'Marital_status', 'Make']).Price.sum())"
   ]
  },
  {
   "cell_type": "code",
   "execution_count": 113,
   "id": "f09c9770",
   "metadata": {},
   "outputs": [
    {
     "data": {
      "image/png": "[encoded data removed]",
      "text/plain": [
       "<Figure size 895.4x576 with 2 Axes>"
      ]
     },
     "metadata": {
      "needs_background": "light"
     },
     "output_type": "display_data"
    }
   ],
   "source": [
    "G1 = sns.catplot(x=\"Marital_status\", hue=\"Make\", col=\"Gender\", data=austo, kind=\"count\",height=8, aspect=.7);"
   ]
  },
  {
   "cell_type": "markdown",
   "id": "ef75f6fb",
   "metadata": {},
   "source": [
    "- Married Males are the prime customers of the company who majorly contributes in Sedan followed by Hatch Back\n",
    "- Married Women have a tendency to buy SUV followed by Sedan\n",
    "- Non Married Men have a potential users of Hatchback and buys this segment of the car other than any other segment\n",
    "- Non Married Women usually buys Sedan, followed by SUV and very few have buyed the  Hatchback Car"
   ]
  },
  {
   "cell_type": "markdown",
   "id": "adec5178",
   "metadata": {},
   "source": [
    "## Problem 2"
   ]
  },
  {
   "cell_type": "markdown",
   "id": "889008dc",
   "metadata": {},
   "source": [
    "### A bank can generate revenue in a variety of ways, such as charging interest, transaction fees and financial advice. Interest charged on the capital that the bank lends out to customers has historically been the most significant method of revenue generation. The bank earns profits from the difference between the interest rates it pays on deposits and other sources of funds, and the interest rates it charges on the loans it gives out.\n",
    "\n",
    "### GODIGT Bank is a mid-sized private bank that deals in all kinds of banking products, such as savings accounts, current accounts, investment products, etc. among other offerings. The bank also cross-sells asset products to its existing customers through personal loans, auto loans, business loans, etc., and to do so they use various communication methods including cold calling, e-mails, recommendations on the net banking, mobile banking, etc.\n",
    "\n",
    "### GODIGT Bank also has a set of customers who were given credit cards based on risk policy and customer category class but due to huge competition in the credit card market, the bank is observing high attrition in credit card spending. The bank makes money only if customers spend more on credit cards. Given the attrition, the Bank wants to revisit its credit card policy and make sure that the card given to the customer is the right credit card. The bank will make a profit only through the customers that show higher intent towards a recommended credit card. (Higher intent means consumers would want to use the card and hence not be attrite.)"
   ]
  },
  {
   "cell_type": "code",
   "execution_count": 118,
   "id": "54f1d10f",
   "metadata": {},
   "outputs": [],
   "source": [
    "godi= pd.read_excel('godigt_cc_data.xlsx')"
   ]
  },
  {
   "cell_type": "code",
   "execution_count": 120,
   "id": "fb30bd44",
   "metadata": {},
   "outputs": [
    {
     "data": {
      "text/html": [
       "<div>\n",
       "<style scoped>\n",
       "    .dataframe tbody tr th:only-of-type {\n",
       "        vertical-align: middle;\n",
       "    }\n",
       "\n",
       "    .dataframe tbody tr th {\n",
       "        vertical-align: top;\n",
       "    }\n",
       "\n",
       "    .dataframe thead th {\n",
       "        text-align: right;\n",
       "    }\n",
       "</style>\n",
       "<table border=\"1\" class=\"dataframe\">\n",
       "  <thead>\n",
       "    <tr style=\"text-align: right;\">\n",
       "      <th></th>\n",
       "      <th>userid</th>\n",
       "      <th>card_no</th>\n",
       "      <th>card_bin_no</th>\n",
       "      <th>Issuer</th>\n",
       "      <th>card_type</th>\n",
       "      <th>card_source_date</th>\n",
       "      <th>high_networth</th>\n",
       "      <th>active_30</th>\n",
       "      <th>active_60</th>\n",
       "      <th>active_90</th>\n",
       "      <th>...</th>\n",
       "      <th>bank_vintage</th>\n",
       "      <th>T+1_month_activity</th>\n",
       "      <th>T+2_month_activity</th>\n",
       "      <th>T+3_month_activity</th>\n",
       "      <th>T+6_month_activity</th>\n",
       "      <th>T+12_month_activity</th>\n",
       "      <th>Transactor_revolver</th>\n",
       "      <th>avg_spends_l3m</th>\n",
       "      <th>Occupation_at_source</th>\n",
       "      <th>cc_limit</th>\n",
       "    </tr>\n",
       "  </thead>\n",
       "  <tbody>\n",
       "    <tr>\n",
       "      <th>0</th>\n",
       "      <td>1</td>\n",
       "      <td>4384 39XX XXXX XXXX</td>\n",
       "      <td>438439</td>\n",
       "      <td>Visa</td>\n",
       "      <td>edge</td>\n",
       "      <td>2019-09-29</td>\n",
       "      <td>B</td>\n",
       "      <td>0</td>\n",
       "      <td>1</td>\n",
       "      <td>1</td>\n",
       "      <td>...</td>\n",
       "      <td>27</td>\n",
       "      <td>0</td>\n",
       "      <td>0</td>\n",
       "      <td>0</td>\n",
       "      <td>0</td>\n",
       "      <td>0</td>\n",
       "      <td>T</td>\n",
       "      <td>27729</td>\n",
       "      <td>Self Employed</td>\n",
       "      <td>290000</td>\n",
       "    </tr>\n",
       "    <tr>\n",
       "      <th>1</th>\n",
       "      <td>2</td>\n",
       "      <td>4377 48XX XXXX XXXX</td>\n",
       "      <td>437748</td>\n",
       "      <td>Visa</td>\n",
       "      <td>prosperity</td>\n",
       "      <td>2002-10-30</td>\n",
       "      <td>A</td>\n",
       "      <td>1</td>\n",
       "      <td>1</td>\n",
       "      <td>1</td>\n",
       "      <td>...</td>\n",
       "      <td>52</td>\n",
       "      <td>0</td>\n",
       "      <td>0</td>\n",
       "      <td>0</td>\n",
       "      <td>0</td>\n",
       "      <td>0</td>\n",
       "      <td>R</td>\n",
       "      <td>280854</td>\n",
       "      <td>0</td>\n",
       "      <td>950000</td>\n",
       "    </tr>\n",
       "    <tr>\n",
       "      <th>2</th>\n",
       "      <td>3</td>\n",
       "      <td>4377 48XX XXXX XXXX</td>\n",
       "      <td>437748</td>\n",
       "      <td>Visa</td>\n",
       "      <td>rewards</td>\n",
       "      <td>2013-10-05</td>\n",
       "      <td>C</td>\n",
       "      <td>0</td>\n",
       "      <td>0</td>\n",
       "      <td>0</td>\n",
       "      <td>...</td>\n",
       "      <td>23</td>\n",
       "      <td>1</td>\n",
       "      <td>0</td>\n",
       "      <td>0</td>\n",
       "      <td>0</td>\n",
       "      <td>0</td>\n",
       "      <td>R</td>\n",
       "      <td>70587</td>\n",
       "      <td>Student</td>\n",
       "      <td>210000</td>\n",
       "    </tr>\n",
       "    <tr>\n",
       "      <th>3</th>\n",
       "      <td>4</td>\n",
       "      <td>4258 06XX XXXX XXXX</td>\n",
       "      <td>425806</td>\n",
       "      <td>Visa</td>\n",
       "      <td>indianoil</td>\n",
       "      <td>1999-06-01</td>\n",
       "      <td>E</td>\n",
       "      <td>0</td>\n",
       "      <td>1</td>\n",
       "      <td>1</td>\n",
       "      <td>...</td>\n",
       "      <td>49</td>\n",
       "      <td>0</td>\n",
       "      <td>0</td>\n",
       "      <td>1</td>\n",
       "      <td>0</td>\n",
       "      <td>0</td>\n",
       "      <td>T</td>\n",
       "      <td>9156</td>\n",
       "      <td>Self Employed</td>\n",
       "      <td>80000</td>\n",
       "    </tr>\n",
       "    <tr>\n",
       "      <th>4</th>\n",
       "      <td>5</td>\n",
       "      <td>4377 48XX XXXX XXXX</td>\n",
       "      <td>437748</td>\n",
       "      <td>Visa</td>\n",
       "      <td>edge</td>\n",
       "      <td>2006-06-13</td>\n",
       "      <td>B</td>\n",
       "      <td>1</td>\n",
       "      <td>1</td>\n",
       "      <td>1</td>\n",
       "      <td>...</td>\n",
       "      <td>21</td>\n",
       "      <td>1</td>\n",
       "      <td>0</td>\n",
       "      <td>0</td>\n",
       "      <td>0</td>\n",
       "      <td>0</td>\n",
       "      <td>T</td>\n",
       "      <td>38108</td>\n",
       "      <td>Salaried</td>\n",
       "      <td>220000</td>\n",
       "    </tr>\n",
       "  </tbody>\n",
       "</table>\n",
       "<p>5 rows × 28 columns</p>\n",
       "</div>"
      ],
      "text/plain": [
       "   userid              card_no  card_bin_no Issuer   card_type  \\\n",
       "0       1  4384 39XX XXXX XXXX       438439   Visa        edge   \n",
       "1       2  4377 48XX XXXX XXXX       437748   Visa  prosperity   \n",
       "2       3  4377 48XX XXXX XXXX       437748   Visa     rewards   \n",
       "3       4  4258 06XX XXXX XXXX       425806   Visa   indianoil   \n",
       "4       5  4377 48XX XXXX XXXX       437748   Visa        edge   \n",
       "\n",
       "  card_source_date high_networth  active_30  active_60  active_90  ...  \\\n",
       "0       2019-09-29             B          0          1          1  ...   \n",
       "1       2002-10-30             A          1          1          1  ...   \n",
       "2       2013-10-05             C          0          0          0  ...   \n",
       "3       1999-06-01             E          0          1          1  ...   \n",
       "4       2006-06-13             B          1          1          1  ...   \n",
       "\n",
       "   bank_vintage  T+1_month_activity  T+2_month_activity T+3_month_activity  \\\n",
       "0            27                   0                   0                  0   \n",
       "1            52                   0                   0                  0   \n",
       "2            23                   1                   0                  0   \n",
       "3            49                   0                   0                  1   \n",
       "4            21                   1                   0                  0   \n",
       "\n",
       "   T+6_month_activity  T+12_month_activity  Transactor_revolver  \\\n",
       "0                   0                    0                    T   \n",
       "1                   0                    0                    R   \n",
       "2                   0                    0                    R   \n",
       "3                   0                    0                    T   \n",
       "4                   0                    0                    T   \n",
       "\n",
       "  avg_spends_l3m  Occupation_at_source  cc_limit  \n",
       "0          27729         Self Employed    290000  \n",
       "1         280854                     0    950000  \n",
       "2          70587               Student    210000  \n",
       "3           9156         Self Employed     80000  \n",
       "4          38108              Salaried    220000  \n",
       "\n",
       "[5 rows x 28 columns]"
      ]
     },
     "execution_count": 120,
     "metadata": {},
     "output_type": "execute_result"
    }
   ],
   "source": [
    "godi.head()"
   ]
  },
  {
   "cell_type": "markdown",
   "id": "b9427c8b",
   "metadata": {},
   "source": [
    "##### The 5 important variables in the data set are :\n",
    "\n",
    "      "
   ]
  },
  {
   "cell_type": "markdown",
   "id": "bb2b1fc7",
   "metadata": {},
   "source": [
    "- cc_limit: This gives the user a limit to utilize the limit of balance given by the bank\n",
    "- T+3_month_activity: This gives the information about the user activity on the credit card. Is he inactive in 3 month or  utilizing the credit balance\n",
    "- avg_spends_l3m: This is a important continous variable which informs about the average spend of 3 month. This can help to analyze whether the customer is revolving around the credit limit or paying back the bill at one go, or opting for part payment etc\n",
    "- Occupation_at_source: This is a categorial variable which gives the employment status of the customer. This is very important to decide the credit limit or risk strategies\n",
    "- active_90: This is also very important to determine whether the customer is actually in use of the revolving credit balance or just repaying the previous due balance. "
   ]
  },
  {
   "cell_type": "markdown",
   "id": "ac646621",
   "metadata": {},
   "source": [
    "### Thank You"
   ]
  }
 ],
 "metadata": {
  "kernelspec": {
   "display_name": "Python 3 (ipykernel)",
   "language": "python",
   "name": "python3"
  },
  "language_info": {
   "codemirror_mode": {
    "name": "ipython",
    "version": 3
   },
   "file_extension": ".py",
   "mimetype": "text/x-python",
   "name": "python",
   "nbconvert_exporter": "python",
   "pygments_lexer": "ipython3",
   "version": "3.9.12"
  }
 },
 "nbformat": 4,
 "nbformat_minor": 5
}
